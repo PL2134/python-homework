{
 "cells": [
  {
   "cell_type": "code",
   "execution_count": 22,
   "id": "d328acf0-15ee-4cbd-9c9b-d7c790024fb4",
   "metadata": {},
   "outputs": [],
   "source": [
    "# Import the pathlib and csv library\n",
    "from pathlib import Path\n",
    "import csv"
   ]
  },
  {
   "cell_type": "code",
   "execution_count": 26,
   "id": "963873ae-2cef-42a5-9d27-d716b9ce63e4",
   "metadata": {},
   "outputs": [],
   "source": [
    "# Set the file path\n",
    "csvpath = Path('budget_data.csv')"
   ]
  },
  {
   "cell_type": "code",
   "execution_count": 130,
   "id": "3966c16f-f5f2-43e0-96e9-e05af97c16bf",
   "metadata": {},
   "outputs": [
    {
     "name": "stdout",
     "output_type": "stream",
     "text": [
      "['Jan-2010', '867884']\n",
      "['Feb-2010', '984655']\n",
      "['Mar-2010', '322013']\n",
      "['Apr-2010', '-69417']\n",
      "['May-2010', '310503']\n",
      "['Jun-2010', '522857']\n",
      "['Jul-2010', '1033096']\n",
      "['Aug-2010', '604885']\n",
      "['Sep-2010', '-216386']\n",
      "['Oct-2010', '477532']\n",
      "['Nov-2010', '893810']\n",
      "['Dec-2010', '-80353']\n",
      "['Jan-2011', '779806']\n",
      "['Feb-2011', '-335203']\n",
      "['Mar-2011', '697845']\n",
      "['Apr-2011', '793163']\n",
      "['May-2011', '485070']\n",
      "['Jun-2011', '584122']\n",
      "['Jul-2011', '62729']\n",
      "['Aug-2011', '668179']\n",
      "['Sep-2011', '899906']\n",
      "['Oct-2011', '834719']\n",
      "['Nov-2011', '132003']\n",
      "['Dec-2011', '309978']\n",
      "['Jan-2012', '-755566']\n",
      "['Feb-2012', '1170593']\n",
      "['Mar-2012', '252788']\n",
      "['Apr-2012', '1151518']\n",
      "['May-2012', '817256']\n",
      "['Jun-2012', '570757']\n",
      "['Jul-2012', '506702']\n",
      "['Aug-2012', '-1022534']\n",
      "['Sep-2012', '475062']\n",
      "['Oct-2012', '779976']\n",
      "['Nov-2012', '144175']\n",
      "['Dec-2012', '542494']\n",
      "['Jan-2013', '359333']\n",
      "['Feb-2013', '321469']\n",
      "['Mar-2013', '67780']\n",
      "['Apr-2013', '471435']\n",
      "['May-2013', '565603']\n",
      "['Jun-2013', '872480']\n",
      "['Jul-2013', '789480']\n",
      "['Aug-2013', '999942']\n",
      "['Sep-2013', '-1196225']\n",
      "['Oct-2013', '268997']\n",
      "['Nov-2013', '-687986']\n",
      "['Dec-2013', '1150461']\n",
      "['Jan-2014', '682458']\n",
      "['Feb-2014', '617856']\n",
      "['Mar-2014', '824098']\n",
      "['Apr-2014', '581943']\n",
      "['May-2014', '132864']\n",
      "['Jun-2014', '448062']\n",
      "['Jul-2014', '689161']\n",
      "['Aug-2014', '800701']\n",
      "['Sep-2014', '1166643']\n",
      "['Oct-2014', '947333']\n",
      "['Nov-2014', '578668']\n",
      "['Dec-2014', '988505']\n",
      "['Jan-2015', '1139715']\n",
      "['Feb-2015', '1029471']\n",
      "['Mar-2015', '687533']\n",
      "['Apr-2015', '-524626']\n",
      "['May-2015', '158620']\n",
      "['Jun-2015', '87795']\n",
      "['Jul-2015', '423389']\n",
      "['Aug-2015', '840723']\n",
      "['Sep-2015', '568529']\n",
      "['Oct-2015', '332067']\n",
      "['Nov-2015', '989499']\n",
      "['Dec-2015', '778237']\n",
      "['Jan-2016', '650000']\n",
      "['Feb-2016', '-1100387']\n",
      "['Mar-2016', '-174946']\n",
      "['Apr-2016', '757143']\n",
      "['May-2016', '445709']\n",
      "['Jun-2016', '712961']\n",
      "['Jul-2016', '-1163797']\n",
      "['Aug-2016', '569899']\n",
      "['Sep-2016', '768450']\n",
      "['Oct-2016', '102685']\n",
      "['Nov-2016', '795914']\n",
      "['Dec-2016', '60988']\n",
      "['Jan-2017', '138230']\n",
      "['Feb-2017', '671099']\n"
     ]
    }
   ],
   "source": [
    "with open(csvpath, 'r') as csvfile:\n",
    "    csvreader = csv.reader(csvfile) # turns it into a list of lists\n",
    "    header = next(csvreader)\n",
    "    for row in csvreader:\n",
    "        print(row)"
   ]
  },
  {
   "cell_type": "code",
   "execution_count": 158,
   "id": "0cef5469-10f8-44dc-be8a-2883ee9e192c",
   "metadata": {
    "tags": []
   },
   "outputs": [
    {
     "name": "stdout",
     "output_type": "stream",
     "text": [
      "85\n",
      "37514694\n",
      "-2315.12\n",
      "['Feb-2012', 1926159]\n",
      "['Sep-2013', -2196167]\n"
     ]
    }
   ],
   "source": [
    "# Initialize variable to hold profit_loss\n",
    "profit_losses = []\n",
    "# Initialize line_num variable\n",
    "line_num = 0\n",
    "# Open the input path as a file object\n",
    "with open(csvpath, 'r') as csvfile:\n",
    "    # Pass in the csv file to the csv.reader() function\n",
    "    # (with ',' as the delmiter/separator) and return the csvreader object\n",
    "    csvreader = csv.reader(csvfile, delimiter=',')\n",
    "    # Go to the next row from the start of the file\n",
    "    header = next(csvreader)\n",
    "    # Initialize total_p_l variable\n",
    "    total_p_l = 0\n",
    "    # Storing value of the first row\n",
    "    first_row = next(csvreader)\n",
    "    # First value for the net_change_list\n",
    "    prev_net = int(first_row[1])\n",
    "    # Create an empty net_change_list\n",
    "    net_change_list = []\n",
    "    # Initialise metric variables\n",
    "    max_net_change = []\n",
    "    min_net_change = []\n",
    "    # Append the row max net change value to the list of net change\n",
    "    max_net_change.append(first_row[0])\n",
    "    max_net_change.append(0)\n",
    "    # Append the row min net change value to the list of net change\n",
    "    min_net_change.append(first_row[0])\n",
    "    min_net_change.append(0)\n",
    "    # Read each row of data after the header and iterate line_num by 1\n",
    "    for row in csvreader:\n",
    "        # Iterate line_num by 1\n",
    "        line_num += 1\n",
    "        # The net total amount of Profit/Losses over the entire period.\n",
    "        total_p_l = total_p_l + (int(row[1]))\n",
    "        net_change = int(row[1]) - prev_net\n",
    "        prev_net = int(row[1])\n",
    "\n",
    "        # Store the net change values in a list\n",
    "        net_change_list = net_change_list + [net_change]\n",
    "        # Logic to determine min and max net change\n",
    "        if net_change > max_net_change[1]: \n",
    "            max_net_change[1] = net_change\n",
    "            max_net_change[0] = row[0]\n",
    "        elif net_change < min_net_change[1]: \n",
    "            min_net_change[1] = net_change\n",
    "            min_net_change[0] = row[0]\n",
    "    \n",
    "    # The total number of months included in the dataset.\n",
    "    print(line_num) \n",
    "\n",
    "    # The net total amount of Profit/Losses over the entire period.\n",
    "    print(total_p_l)  \n",
    "\n",
    "    # Set profit_losses variable equal to the value in the 1st column of each row\n",
    "    profit_loss = int(row[1])\n",
    "    # Append the row salary value to the list of profit/losses\n",
    "    profit_losses.append(profit_loss)\n",
    "    \n",
    "    # The average of the changes in Profit/Losses over the entire period.\n",
    "    net_change_avg = sum(net_change_list) / len(net_change_list)\n",
    "    net_change_avg_rounded = round(net_change_avg, 2)\n",
    "    print(net_change_avg_rounded)\n",
    "    \n",
    "    # The greatest increase in profits (date and amount) over the entire period.\n",
    "    print(max_net_change)\n",
    "    \n",
    "    # The greatest decrease in losses (date and amount) over the entire period.\n",
    "    print(min_net_change)"
   ]
  },
  {
   "cell_type": "code",
   "execution_count": 159,
   "id": "a63607a2-7ce6-47ea-9529-bdfc3e56a102",
   "metadata": {},
   "outputs": [],
   "source": [
    "# Set the output header\n",
    "header = [\"Total Months\", \"Total\", \"Average  Change\", \"Greatest Increase in Profits\", \"Greatest Decrease in Profits\"]"
   ]
  },
  {
   "cell_type": "code",
   "execution_count": 160,
   "id": "e10dc76a-2ed0-4f85-b9e0-098f72c706d5",
   "metadata": {},
   "outputs": [],
   "source": [
    "# Create a list of metrics\n",
    "metrics = [line_num, total_p_l, net_change_avg_rounded, max_net_change, min_net_change]"
   ]
  },
  {
   "cell_type": "code",
   "execution_count": null,
   "id": "5b7ebb8f-77e5-459e-bc66-27188b67e45b",
   "metadata": {},
   "outputs": [],
   "source": []
  },
  {
   "cell_type": "code",
   "execution_count": null,
   "id": "3b37801a-941a-4820-8e8b-f2df6c1ce018",
   "metadata": {},
   "outputs": [],
   "source": []
  },
  {
   "cell_type": "code",
   "execution_count": null,
   "id": "5eeb41d7-3341-424c-9c11-dfef205adfee",
   "metadata": {},
   "outputs": [],
   "source": []
  },
  {
   "cell_type": "code",
   "execution_count": null,
   "id": "4dec08ca-e6d9-4875-bc70-ffda48e761c0",
   "metadata": {},
   "outputs": [],
   "source": []
  },
  {
   "cell_type": "code",
   "execution_count": null,
   "id": "ab15c683-3a7c-4d21-890c-b33dad377447",
   "metadata": {},
   "outputs": [],
   "source": []
  }
 ],
 "metadata": {
  "kernelspec": {
   "display_name": "Python 3 (ipykernel)",
   "language": "python",
   "name": "python3"
  },
  "language_info": {
   "codemirror_mode": {
    "name": "ipython",
    "version": 3
   },
   "file_extension": ".py",
   "mimetype": "text/x-python",
   "name": "python",
   "nbconvert_exporter": "python",
   "pygments_lexer": "ipython3",
   "version": "3.9.12"
  }
 },
 "nbformat": 4,
 "nbformat_minor": 5
}
