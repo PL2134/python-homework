{
 "cells": [
  {
   "cell_type": "code",
   "execution_count": 36,
   "id": "f5039fe9-01c8-4938-ba44-54ff24082ae8",
   "metadata": {},
   "outputs": [],
   "source": [
    "# -*- coding: UTF-8 -*-\n",
    "\"\"\"PyRamen Homework Starter.\"\"\"\n",
    "\n",
    "# @TODO: Import libraries\n",
    "import csv\n",
    "from pathlib import Path\n",
    "\n",
    "# @TODO: Set file paths for menu_data.csv and sales_data.csv\n",
    "menu_filepath = Path('menu_data.csv')\n",
    "sales_filepath = Path('sales_data.csv')\n",
    "\n",
    "# @TODO: Initialize list objects to hold our menu and sales data\n",
    "menu = []\n",
    "sales = []\n",
    "\n",
    "# @TODO: Read in the menu data into the menu list\n",
    "with open(menu_filepath, 'r') as csvfile_menu:\n",
    "    csvreader_menu = csv.reader(csvfile_menu, delimiter = ',')\n",
    "    header = next(csvreader_menu)\n",
    "    for row in csvreader_menu:\n",
    "        menu.append(row)\n",
    "\n",
    "# @TODO: Read in the sales data into the sales list\n",
    "with open(sales_filepath, 'r') as csvfile_sales:\n",
    "    csvreader_sales = csv.reader(csvfile_sales, delimiter = ',')\n",
    "    header = next(csvreader_sales)\n",
    "    for row in csvreader_sales:\n",
    "        sales.append(row)"
   ]
  },
  {
   "cell_type": "code",
   "execution_count": 38,
   "id": "469bdf1f-5b9f-406c-86c6-b8375ba205cc",
   "metadata": {},
   "outputs": [
    {
     "name": "stdout",
     "output_type": "stream",
     "text": [
      "74124\n"
     ]
    }
   ],
   "source": [
    "# @TODO: Initialize dict object to hold our key-value pairs of items and metrics\n",
    "report = {}\n",
    "\n",
    "# Initialize a row counter variable\n",
    "row_count = 0\n",
    "\n",
    "# @TODO: Loop over every row in the sales list object\n",
    "for sales_row in sales:\n",
    "    \n",
    "    # Line_Item_ID,Date,Credit_Card_Number,Quantity,Menu_Item\n",
    "    # @TODO: Initialize sales data variables\n",
    "    quantity = sales_row[3]\n",
    "    sales_item = sales_row[4]\n",
    "    # @TODO: Increment the row counter by 1\n",
    "    row_count += 1\n",
    "    \n",
    "    # @TODO:\n",
    "    # If the item value not in the report, add it as a new entry with initialized metrics\n",
    "    # Naming convention allows the keys to be ordered in logical fashion, count, revenue, cost, profit\n",
    "    if sales_item not in report:\n",
    "        report[sales_item] = {\"01-count\": 0, \"02-revenue\": 0, \"03-cogs\": 0, \"04-profit\": 0}\n",
    "    elif sales_item in report:\n",
    "        report[sales_item][\"01-count\"] += int(quantity)\n",
    "    else:\n",
    "        continue\n",
    "        \n",
    "# @TODO: Print total number of records in sales data\n",
    "print(row_count)"
   ]
  },
  {
   "cell_type": "code",
   "execution_count": 52,
   "id": "6855bdc6-acd2-41bf-80f5-48b2384a5813",
   "metadata": {},
   "outputs": [
    {
     "name": "stdout",
     "output_type": "stream",
     "text": [
      "spicy miso ramen does not equal edamame! NO MATCH!\n",
      "spicy miso ramen does not equal house salad! NO MATCH!\n",
      "spicy miso ramen does not equal cucumber sunomono salad! NO MATCH!\n",
      "spicy miso ramen does not equal hiyashi wakame seaweed salad! NO MATCH!\n",
      "spicy miso ramen does not equal agedashi tofu! NO MATCH!\n",
      "spicy miso ramen does not equal hiyayakko tofu! NO MATCH!\n",
      "spicy miso ramen does not equal pork floss bao! NO MATCH!\n",
      "spicy miso ramen does not equal kakuni bao! NO MATCH!\n",
      "spicy miso ramen does not equal edamame fried gyoza (vegan)! NO MATCH!\n",
      "spicy miso ramen does not equal fried gyoza! NO MATCH!\n",
      "spicy miso ramen does not equal takoyaki! NO MATCH!\n",
      "spicy miso ramen does not equal rock shrimp tempura! NO MATCH!\n",
      "spicy miso ramen does not equal soft-shell crab tempura! NO MATCH!\n",
      "spicy miso ramen does not equal ebi katsu shrimp bao! NO MATCH!\n",
      "spicy miso ramen does not equal nagomi shoyu! NO MATCH!\n",
      "spicy miso ramen does not equal shio ramen! NO MATCH!\n",
      "spicy miso ramen\n",
      "spicy miso ramen does not equal vegetarian spicy miso! NO MATCH!\n",
      "spicy miso ramen does not equal miso crab ramen! NO MATCH!\n",
      "spicy miso ramen does not equal soft-shell miso crab ramen! NO MATCH!\n",
      "spicy miso ramen does not equal tori paitan ramen! NO MATCH!\n",
      "spicy miso ramen does not equal tonkotsu ramen! NO MATCH!\n",
      "spicy miso ramen does not equal burnt garlic tonkotsu ramen! NO MATCH!\n",
      "spicy miso ramen does not equal vegetarian curry + king trumpet mushroom ramen! NO MATCH!\n",
      "spicy miso ramen does not equal truffle butter ramen! NO MATCH!\n",
      "spicy miso ramen does not equal green tea! NO MATCH!\n",
      "spicy miso ramen does not equal coke! NO MATCH!\n",
      "spicy miso ramen does not equal black sesame ice cream! NO MATCH!\n",
      "spicy miso ramen does not equal matcha ice cream! NO MATCH!\n",
      "spicy miso ramen does not equal mango mochi ice cream! NO MATCH!\n",
      "spicy miso ramen does not equal strawberry mochi ice cream! NO MATCH!\n",
      "spicy miso ramen does not equal black sesame creme brulee! NO MATCH!\n"
     ]
    }
   ],
   "source": [
    "# @TODO: For every row in our sales data, loop over the menu records to determine a match\n",
    "for menu_row in menu:\n",
    "        \n",
    "    # Item,Category,Description,Price,Cost\n",
    "    # @TODO: Initialize menu data variables\n",
    "    menu_item = menu_row[0]\n",
    "    menu_price = menu_row[3]\n",
    "    menu_cost = menu_row[4]\n",
    "        \n",
    "    # @TODO: If the item value in our sales data is equal to the any of the items in the menu, then begin tracking metrics for that item and cumulatively add up the metrics for each item key\n",
    "    if sales_item == menu_item:\n",
    "        # @TODO: Print out matching menu data\n",
    "        print(sales_item)\n",
    "        report[sales_item][\"02-revenue\"] += (int(menu_price) * int(quantity))\n",
    "        report[sales_item][\"03-cogs\"] += (int(menu_cost) * int(quantity))\n",
    "        # @TODO: Else, the sales item does not equal any of the item in the menu data, therefore no match\n",
    "    elif sales_item != menu_item:\n",
    "        print(f\"{sales_item} does not equal {menu_item}! NO MATCH!\")"
   ]
  },
  {
   "cell_type": "code",
   "execution_count": 53,
   "id": "7f2708c6-7f93-45a7-829c-ccd61ddbdaf9",
   "metadata": {},
   "outputs": [],
   "source": [
    "# Calculate profit using revenue and cogs\n",
    "for item, valuedict in report.items():\n",
    "    \n",
    "    for key in valuedict:\n",
    "        \n",
    "        cogs = report[item][\"03-cogs\"]\n",
    "        revenue = report[item][\"02-revenue\"]\n",
    "        \n",
    "        if key == \"04-profit\":\n",
    "            report[item][key] = revenue - cogs\n",
    "        else:\n",
    "            continue"
   ]
  },
  {
   "cell_type": "code",
   "execution_count": 54,
   "id": "787508b7-d0d3-4d24-8564-a0e572e295c5",
   "metadata": {},
   "outputs": [],
   "source": [
    "# Set the output file path\n",
    "output_path = Path('output.txt')\n",
    "# @TODO: Write out report to a text file (won't appear on the command line output)\n",
    "with open(output_path, 'w') as file:\n",
    "    file.write(\"This is the financial report for PyRamen.\\n\")\n",
    "    for key in report:\n",
    "        file.write(f\"{key} {report[key]} \\n\")"
   ]
  },
  {
   "cell_type": "code",
   "execution_count": null,
   "id": "f9b8b20e-6db8-41a2-ab91-8b1d7693953a",
   "metadata": {},
   "outputs": [],
   "source": []
  },
  {
   "cell_type": "code",
   "execution_count": null,
   "id": "4857b900-3abb-4dc5-a893-4c2c3ffa0a95",
   "metadata": {},
   "outputs": [],
   "source": []
  },
  {
   "cell_type": "code",
   "execution_count": null,
   "id": "03efa422-ed8d-489c-aeb4-517857fd21e7",
   "metadata": {},
   "outputs": [],
   "source": []
  },
  {
   "cell_type": "code",
   "execution_count": null,
   "id": "5360d720-e3b9-45b8-bf0a-cac04c74cd93",
   "metadata": {},
   "outputs": [],
   "source": []
  }
 ],
 "metadata": {
  "kernelspec": {
   "display_name": "Python 3 (ipykernel)",
   "language": "python",
   "name": "python3"
  },
  "language_info": {
   "codemirror_mode": {
    "name": "ipython",
    "version": 3
   },
   "file_extension": ".py",
   "mimetype": "text/x-python",
   "name": "python",
   "nbconvert_exporter": "python",
   "pygments_lexer": "ipython3",
   "version": "3.9.12"
  }
 },
 "nbformat": 4,
 "nbformat_minor": 5
}
